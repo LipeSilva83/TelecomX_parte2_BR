{
  "cells": [
    {
      "cell_type": "markdown",
      "metadata": {},
      "source": [
        "## 🛠️ Preparação dos Dados"
      ]
    },
    {
      "cell_type": "code",
      "execution_count": 2,
      "metadata": {},
      "outputs": [
        {
          "name": "stdout",
          "output_type": "stream",
          "text": [
            "<class 'pandas.core.frame.DataFrame'>\n",
            "RangeIndex: 7267 entries, 0 to 7266\n",
            "Data columns (total 22 columns):\n",
            " #   Column                   Non-Null Count  Dtype  \n",
            "---  ------                   --------------  -----  \n",
            " 0   customerID               7267 non-null   object \n",
            " 1   Rotatividade             7267 non-null   int64  \n",
            " 2   Sexo                     7267 non-null   object \n",
            " 3   Idoso                    7267 non-null   int64  \n",
            " 4   Parceiro                 7267 non-null   int64  \n",
            " 5   Dependentes              7267 non-null   int64  \n",
            " 6   Termo                    7267 non-null   int64  \n",
            " 7   Serviço_Telefônico       7267 non-null   int64  \n",
            " 8   Várias_Linhas            7267 non-null   object \n",
            " 9   Serviço_de_Internet      7267 non-null   object \n",
            " 10  Segurança_Online         7267 non-null   object \n",
            " 11  Backup_Online            7267 non-null   object \n",
            " 12  Proteção_do_Dispositivo  7267 non-null   object \n",
            " 13  Suporte_Técnico          7267 non-null   object \n",
            " 14  Streaming_de_TV          7267 non-null   object \n",
            " 15  Streaming_de_Filmes      7267 non-null   object \n",
            " 16  Contrato                 7267 non-null   object \n",
            " 17  Faturamento_Eletrônico   7267 non-null   int64  \n",
            " 18  Forma_de_Pagamento       7267 non-null   object \n",
            " 19  Cobrança_Mensal          7267 non-null   float64\n",
            " 20  Cobrança_Total           7267 non-null   float64\n",
            " 21  Contas_Diárias           7267 non-null   float64\n",
            "dtypes: float64(3), int64(7), object(12)\n",
            "memory usage: 1.2+ MB\n"
          ]
        }
      ],
      "source": [
        "#Extração do arquivo tratado\n",
        "import pandas as pd\n",
        "dados = pd.read_csv('dados/df_normalizado.csv')\n",
        "dados.info()"
      ]
    },
    {
      "cell_type": "markdown",
      "metadata": {},
      "source": [
        "##Remoção de Colunas Irrelevantes"
      ]
    },
    {
      "cell_type": "code",
      "execution_count": 3,
      "metadata": {},
      "outputs": [
        {
          "name": "stdout",
          "output_type": "stream",
          "text": [
            "Index(['Rotatividade', 'Sexo', 'Idoso', 'Parceiro', 'Dependentes', 'Termo',\n",
            "       'Serviço_Telefônico', 'Várias_Linhas', 'Serviço_de_Internet',\n",
            "       'Segurança_Online', 'Backup_Online', 'Proteção_do_Dispositivo',\n",
            "       'Suporte_Técnico', 'Streaming_de_TV', 'Streaming_de_Filmes', 'Contrato',\n",
            "       'Faturamento_Eletrônico', 'Forma_de_Pagamento', 'Cobrança_Mensal',\n",
            "       'Cobrança_Total', 'Contas_Diárias'],\n",
            "      dtype='object')\n"
          ]
        }
      ],
      "source": [
        "dados = dados.drop('customerID', axis=1)\n",
        "print(dados.columns)"
      ]
    },
    {
      "cell_type": "markdown",
      "metadata": {},
      "source": [
        "##Encoding"
      ]
    },
    {
      "cell_type": "markdown",
      "metadata": {},
      "source": [
        "Transforme as variáveis categóricas em formato numérico para torná-las compatíveis com algoritmos de machine learning."
      ]
    },
    {
      "cell_type": "code",
      "execution_count": 4,
      "metadata": {},
      "outputs": [
        {
          "name": "stdout",
          "output_type": "stream",
          "text": [
            "Categorical columns:\n",
            "Index(['Sexo', 'Várias_Linhas', 'Serviço_de_Internet', 'Segurança_Online',\n",
            "       'Backup_Online', 'Proteção_do_Dispositivo', 'Suporte_Técnico',\n",
            "       'Streaming_de_TV', 'Streaming_de_Filmes', 'Contrato',\n",
            "       'Forma_de_Pagamento'],\n",
            "      dtype='object')\n"
          ]
        }
      ],
      "source": [
        "#Identificando colunas categoricas\n",
        "categorical_cols = dados.select_dtypes(include=['object', 'category']).columns\n",
        "print(\"Categorical columns:\")\n",
        "print(categorical_cols)"
      ]
    },
    {
      "cell_type": "code",
      "execution_count": 5,
      "metadata": {},
      "outputs": [
        {
          "name": "stdout",
          "output_type": "stream",
          "text": [
            "<class 'pandas.core.frame.DataFrame'>\n",
            "RangeIndex: 7267 entries, 0 to 7266\n",
            "Data columns (total 43 columns):\n",
            " #   Column                                        Non-Null Count  Dtype  \n",
            "---  ------                                        --------------  -----  \n",
            " 0   Rotatividade                                  7267 non-null   int64  \n",
            " 1   Idoso                                         7267 non-null   int64  \n",
            " 2   Parceiro                                      7267 non-null   int64  \n",
            " 3   Dependentes                                   7267 non-null   int64  \n",
            " 4   Termo                                         7267 non-null   int64  \n",
            " 5   Serviço_Telefônico                            7267 non-null   int64  \n",
            " 6   Faturamento_Eletrônico                        7267 non-null   int64  \n",
            " 7   Cobrança_Mensal                               7267 non-null   float64\n",
            " 8   Cobrança_Total                                7267 non-null   float64\n",
            " 9   Contas_Diárias                                7267 non-null   float64\n",
            " 10  Sexo_Female                                   7267 non-null   int64  \n",
            " 11  Sexo_Male                                     7267 non-null   int64  \n",
            " 12  Várias_Linhas_0                               7267 non-null   int64  \n",
            " 13  Várias_Linhas_1                               7267 non-null   int64  \n",
            " 14  Várias_Linhas_No phone service                7267 non-null   int64  \n",
            " 15  Serviço_de_Internet_DSL                       7267 non-null   int64  \n",
            " 16  Serviço_de_Internet_Fiber optic               7267 non-null   int64  \n",
            " 17  Serviço_de_Internet_No                        7267 non-null   int64  \n",
            " 18  Segurança_Online_No                           7267 non-null   int64  \n",
            " 19  Segurança_Online_No internet service          7267 non-null   int64  \n",
            " 20  Segurança_Online_Yes                          7267 non-null   int64  \n",
            " 21  Backup_Online_No                              7267 non-null   int64  \n",
            " 22  Backup_Online_No internet service             7267 non-null   int64  \n",
            " 23  Backup_Online_Yes                             7267 non-null   int64  \n",
            " 24  Proteção_do_Dispositivo_0                     7267 non-null   int64  \n",
            " 25  Proteção_do_Dispositivo_1                     7267 non-null   int64  \n",
            " 26  Proteção_do_Dispositivo_No internet service   7267 non-null   int64  \n",
            " 27  Suporte_Técnico_0                             7267 non-null   int64  \n",
            " 28  Suporte_Técnico_1                             7267 non-null   int64  \n",
            " 29  Suporte_Técnico_No internet service           7267 non-null   int64  \n",
            " 30  Streaming_de_TV_0                             7267 non-null   int64  \n",
            " 31  Streaming_de_TV_1                             7267 non-null   int64  \n",
            " 32  Streaming_de_TV_No internet service           7267 non-null   int64  \n",
            " 33  Streaming_de_Filmes_0                         7267 non-null   int64  \n",
            " 34  Streaming_de_Filmes_1                         7267 non-null   int64  \n",
            " 35  Streaming_de_Filmes_No internet service       7267 non-null   int64  \n",
            " 36  Contrato_Month-to-month                       7267 non-null   int64  \n",
            " 37  Contrato_One year                             7267 non-null   int64  \n",
            " 38  Contrato_Two year                             7267 non-null   int64  \n",
            " 39  Forma_de_Pagamento_Bank transfer (automatic)  7267 non-null   int64  \n",
            " 40  Forma_de_Pagamento_Credit card (automatic)    7267 non-null   int64  \n",
            " 41  Forma_de_Pagamento_Electronic check           7267 non-null   int64  \n",
            " 42  Forma_de_Pagamento_Mailed check               7267 non-null   int64  \n",
            "dtypes: float64(3), int64(40)\n",
            "memory usage: 2.4 MB\n"
          ]
        }
      ],
      "source": [
        "#usando o metodo de codificação get_dummies\n",
        "df_encoded = pd.get_dummies(data = dados, columns = categorical_cols, dtype = int )\n",
        "df_encoded.info()"
      ]
    },
    {
      "cell_type": "markdown",
      "metadata": {},
      "source": [
        "##Verificação da Proporção de Evasão"
      ]
    },
    {
      "cell_type": "markdown",
      "metadata": {},
      "source": [
        "Preciso calcular a proporção de clientes que evadiram em relação aos que permaneceram ativos. Avalie se há desequilíbrio entre as classes, o que pode impactar modelos preditivos e a análise de resultados."
      ]
    },
    {
      "cell_type": "code",
      "execution_count": 6,
      "metadata": {},
      "outputs": [
        {
          "name": "stdout",
          "output_type": "stream",
          "text": [
            "Contagem de clientes por Rotatividade:\n",
            "Rotatividade\n",
            "0    5398\n",
            "1    1869\n",
            "Name: count, dtype: int64\n",
            "\n",
            "Proporção de clientes por Rotatividade:\n",
            "Rotatividade\n",
            "0    0.74281\n",
            "1    0.25719\n",
            "Name: count, dtype: float64\n",
            "\n",
            "Avaliação de Desequilíbrio de Classes:\n",
            "Há um desequilíbrio significativo nas classes (menos de 30% de clientes com Rotatividade).\n"
          ]
        }
      ],
      "source": [
        "contagem_rotatividade = df_encoded['Rotatividade'].value_counts()\n",
        "print(\"Contagem de clientes por Rotatividade:\")\n",
        "print(contagem_rotatividade)\n",
        "\n",
        "# Calculate and print the proportion\n",
        "total_customers = contagem_rotatividade.sum()\n",
        "proporcao_rotatividade = contagem_rotatividade / total_customers\n",
        "\n",
        "print(\"\\nProporção de clientes por Rotatividade:\")\n",
        "print(proporcao_rotatividade)\n",
        "\n",
        "\n",
        "print(\"\\nAvaliação de Desequilíbrio de Classes:\")\n",
        "if proporcao_rotatividade[1] < 0.3:\n",
        "    print(\"Há um desequilíbrio significativo nas classes (menos de 30% de clientes com Rotatividade).\")\n",
        "else:\n",
        "    print(\"As classes estão relativamente equilibradas.\")"
      ]
    }
  ],
  "metadata": {
    "colab": {
      "provenance": []
    },
    "kernelspec": {
      "display_name": ".venv",
      "language": "python",
      "name": "python3"
    },
    "language_info": {
      "codemirror_mode": {
        "name": "ipython",
        "version": 3
      },
      "file_extension": ".py",
      "mimetype": "text/x-python",
      "name": "python",
      "nbconvert_exporter": "python",
      "pygments_lexer": "ipython3",
      "version": "3.12.3"
    }
  },
  "nbformat": 4,
  "nbformat_minor": 0
}
