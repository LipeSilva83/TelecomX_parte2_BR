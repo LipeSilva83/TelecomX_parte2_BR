{
  "cells": [
    {
      "cell_type": "markdown",
      "metadata": {},
      "source": [
        "## 🛠️ Preparação dos Dados"
      ]
    },
    {
      "cell_type": "code",
      "execution_count": 2,
      "metadata": {},
      "outputs": [
        {
          "name": "stdout",
          "output_type": "stream",
          "text": [
            "<class 'pandas.core.frame.DataFrame'>\n",
            "RangeIndex: 7267 entries, 0 to 7266\n",
            "Data columns (total 22 columns):\n",
            " #   Column                   Non-Null Count  Dtype  \n",
            "---  ------                   --------------  -----  \n",
            " 0   customerID               7267 non-null   object \n",
            " 1   Rotatividade             7267 non-null   int64  \n",
            " 2   Sexo                     7267 non-null   object \n",
            " 3   Idoso                    7267 non-null   int64  \n",
            " 4   Parceiro                 7267 non-null   int64  \n",
            " 5   Dependentes              7267 non-null   int64  \n",
            " 6   Termo                    7267 non-null   int64  \n",
            " 7   Serviço_Telefônico       7267 non-null   int64  \n",
            " 8   Várias_Linhas            7267 non-null   object \n",
            " 9   Serviço_de_Internet      7267 non-null   object \n",
            " 10  Segurança_Online         7267 non-null   object \n",
            " 11  Backup_Online            7267 non-null   object \n",
            " 12  Proteção_do_Dispositivo  7267 non-null   object \n",
            " 13  Suporte_Técnico          7267 non-null   object \n",
            " 14  Streaming_de_TV          7267 non-null   object \n",
            " 15  Streaming_de_Filmes      7267 non-null   object \n",
            " 16  Contrato                 7267 non-null   object \n",
            " 17  Faturamento_Eletrônico   7267 non-null   int64  \n",
            " 18  Forma_de_Pagamento       7267 non-null   object \n",
            " 19  Cobrança_Mensal          7267 non-null   float64\n",
            " 20  Cobrança_Total           7267 non-null   float64\n",
            " 21  Contas_Diárias           7267 non-null   float64\n",
            "dtypes: float64(3), int64(7), object(12)\n",
            "memory usage: 1.2+ MB\n"
          ]
        }
      ],
      "source": [
        "#Extração do arquivo tratado\n",
        "import pandas as pd\n",
        "dados = pd.read_csv('dados/df_normalizado.csv')\n",
        "dados.info()"
      ]
    },
    {
      "cell_type": "markdown",
      "metadata": {},
      "source": [
        "##Remoção de Colunas Irrelevantes"
      ]
    },
    {
      "cell_type": "code",
      "execution_count": 3,
      "metadata": {},
      "outputs": [
        {
          "name": "stdout",
          "output_type": "stream",
          "text": [
            "Index(['Rotatividade', 'Sexo', 'Idoso', 'Parceiro', 'Dependentes', 'Termo',\n",
            "       'Serviço_Telefônico', 'Várias_Linhas', 'Serviço_de_Internet',\n",
            "       'Segurança_Online', 'Backup_Online', 'Proteção_do_Dispositivo',\n",
            "       'Suporte_Técnico', 'Streaming_de_TV', 'Streaming_de_Filmes', 'Contrato',\n",
            "       'Faturamento_Eletrônico', 'Forma_de_Pagamento', 'Cobrança_Mensal',\n",
            "       'Cobrança_Total', 'Contas_Diárias'],\n",
            "      dtype='object')\n"
          ]
        }
      ],
      "source": [
        "dados = dados.drop('customerID', axis=1)\n",
        "print(dados.columns)"
      ]
    },
    {
      "cell_type": "markdown",
      "metadata": {},
      "source": [
        "##Encoding"
      ]
    },
    {
      "cell_type": "markdown",
      "metadata": {},
      "source": [
        "Transforme as variáveis categóricas em formato numérico para torná-las compatíveis com algoritmos de machine learning."
      ]
    },
    {
      "cell_type": "code",
      "execution_count": 4,
      "metadata": {},
      "outputs": [
        {
          "name": "stdout",
          "output_type": "stream",
          "text": [
            "Categorical columns:\n",
            "Index(['Sexo', 'Várias_Linhas', 'Serviço_de_Internet', 'Segurança_Online',\n",
            "       'Backup_Online', 'Proteção_do_Dispositivo', 'Suporte_Técnico',\n",
            "       'Streaming_de_TV', 'Streaming_de_Filmes', 'Contrato',\n",
            "       'Forma_de_Pagamento'],\n",
            "      dtype='object')\n"
          ]
        }
      ],
      "source": [
        "#Identificando colunas categoricas\n",
        "categorical_cols = dados.select_dtypes(include=['object', 'category']).columns\n",
        "print(\"Categorical columns:\")\n",
        "print(categorical_cols)"
      ]
    }
  ],
  "metadata": {
    "colab": {
      "provenance": []
    },
    "kernelspec": {
      "display_name": ".venv",
      "language": "python",
      "name": "python3"
    },
    "language_info": {
      "codemirror_mode": {
        "name": "ipython",
        "version": 3
      },
      "file_extension": ".py",
      "mimetype": "text/x-python",
      "name": "python",
      "nbconvert_exporter": "python",
      "pygments_lexer": "ipython3",
      "version": "3.12.3"
    }
  },
  "nbformat": 4,
  "nbformat_minor": 0
}
